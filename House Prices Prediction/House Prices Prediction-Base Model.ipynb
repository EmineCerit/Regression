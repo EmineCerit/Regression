{
 "cells": [
  {
   "cell_type": "markdown",
   "id": "a1dba016",
   "metadata": {},
   "source": [
    "## 1. Importing Libraries and Data"
   ]
  },
  {
   "cell_type": "code",
   "execution_count": 3,
   "id": "edd116ff",
   "metadata": {},
   "outputs": [],
   "source": [
    "import warnings\n",
    "import numpy as np\n",
    "import pandas as pd\n",
    "import seaborn as sns\n",
    "from matplotlib import pyplot as plt\n",
    "\n",
    "import missingno as msno\n",
    "\n",
    "from lightgbm import LGBMRegressor\n",
    "from xgboost import XGBRegressor\n",
    "from sklearn.ensemble import RandomForestRegressor, GradientBoostingRegressor\n",
    "from sklearn.exceptions import ConvergenceWarning\n",
    "from sklearn.linear_model import LinearRegression, Ridge, Lasso, ElasticNet\n",
    "from sklearn.neighbors import KNeighborsRegressor\n",
    "from sklearn.svm import SVR\n",
    "from sklearn.tree import DecisionTreeRegressor\n",
    "\n",
    "\n",
    "from sklearn.model_selection import train_test_split, cross_val_score\n",
    "\n",
    "from sklearn.neighbors import LocalOutlierFactor\n",
    "from sklearn.preprocessing import MinMaxScaler, LabelEncoder\n",
    "from sklearn.metrics import mean_squared_error\n",
    "from sklearn.model_selection import GridSearchCV, cross_val_score, cross_validate\n",
    "\n",
    "\n",
    "warnings.simplefilter(action='ignore',category=FutureWarning)\n",
    "warnings.simplefilter('ignore',category=ConvergenceWarning)\n",
    "\n",
    "\n",
    "pd.set_option('display.max_columns', None)\n",
    "pd.set_option('display.max_rows', None)\n",
    "pd.set_option('display.float_format', lambda x: '%.3f' % x)\n",
    "pd.set_option('display.width', 500)\n",
    "\n",
    "\n",
    "\n",
    "dff=pd.read_csv(r\"C:\\Users\\Workstation\\PycharmProjects\\VBO1\\Final_Project\\train.csv\")"
   ]
  },
  {
   "cell_type": "markdown",
   "id": "ceabc9b4",
   "metadata": {},
   "source": [
    "#### EXPLORATORY DATA ANALYSIS (EDA)"
   ]
  },
  {
   "cell_type": "code",
   "execution_count": 4,
   "id": "5a7fcd39",
   "metadata": {},
   "outputs": [],
   "source": [
    "def grab_col_names(dataframe, cat_th=10, car_th=20):\n",
    "   \n",
    "    # cat_cols, cat_but_car\n",
    "    cat_cols = [col for col in dataframe.columns if dataframe[col].dtypes == \"O\"]\n",
    "    num_but_cat = [col for col in dataframe.columns if dataframe[col].nunique() < cat_th and\n",
    "                   dataframe[col].dtypes != \"O\"]\n",
    "    cat_but_car = [col for col in dataframe.columns if dataframe[col].nunique() > car_th and\n",
    "                   dataframe[col].dtypes == \"O\"]\n",
    "    cat_cols = cat_cols + num_but_cat\n",
    "    cat_cols = [col for col in cat_cols if col not in cat_but_car]\n",
    "\n",
    "    # num_cols\n",
    "    num_cols = [col for col in dataframe.columns if dataframe[col].dtypes != \"O\"]\n",
    "    num_cols = [col for col in num_cols if col not in num_but_cat]\n",
    "\n",
    "    print(f\"Observations: {dataframe.shape[0]}\")\n",
    "    print(f\"Variables: {dataframe.shape[1]}\")\n",
    "    print(f'cat_cols: {len(cat_cols)}')\n",
    "    print(f'num_cols: {len(num_cols)}')\n",
    "    print(f'cat_but_car: {len(cat_but_car)}')\n",
    "    print(f'num_but_cat: {len(num_but_cat)}')\n",
    "    return cat_cols, num_cols, cat_but_car\n"
   ]
  },
  {
   "cell_type": "code",
   "execution_count": 5,
   "id": "4c8c47ab",
   "metadata": {},
   "outputs": [
    {
     "name": "stdout",
     "output_type": "stream",
     "text": [
      "Observations: 1460\n",
      "Variables: 62\n",
      "cat_cols: 37\n",
      "num_cols: 24\n",
      "cat_but_car: 1\n",
      "num_but_cat: 11\n"
     ]
    },
    {
     "data": {
      "text/plain": [
       "'\\nObservations: 1460\\nVariables: 62\\ncat_cols: 37\\nnum_cols: 24\\ncat_but_car: 1\\nnum_but_cat: 11\\n'"
      ]
     },
     "execution_count": 5,
     "metadata": {},
     "output_type": "execute_result"
    }
   ],
   "source": [
    "dff.dropna(inplace=True,axis=1)\n",
    "\n",
    "cat_cols, num_cols, cat_but_car  = grab_col_names(dff)\n"
   ]
  },
  {
   "cell_type": "code",
   "execution_count": 6,
   "id": "9ac7ac5b",
   "metadata": {},
   "outputs": [
    {
     "data": {
      "text/plain": [
       "Id               0\n",
       "MSSubClass       0\n",
       "MSZoning         0\n",
       "LotArea          0\n",
       "Street           0\n",
       "LotShape         0\n",
       "LandContour      0\n",
       "Utilities        0\n",
       "LotConfig        0\n",
       "LandSlope        0\n",
       "Neighborhood     0\n",
       "Condition1       0\n",
       "Condition2       0\n",
       "BldgType         0\n",
       "HouseStyle       0\n",
       "OverallQual      0\n",
       "OverallCond      0\n",
       "YearBuilt        0\n",
       "YearRemodAdd     0\n",
       "RoofStyle        0\n",
       "RoofMatl         0\n",
       "Exterior1st      0\n",
       "Exterior2nd      0\n",
       "ExterQual        0\n",
       "ExterCond        0\n",
       "Foundation       0\n",
       "BsmtFinSF1       0\n",
       "BsmtFinSF2       0\n",
       "BsmtUnfSF        0\n",
       "TotalBsmtSF      0\n",
       "Heating          0\n",
       "HeatingQC        0\n",
       "CentralAir       0\n",
       "1stFlrSF         0\n",
       "2ndFlrSF         0\n",
       "LowQualFinSF     0\n",
       "GrLivArea        0\n",
       "BsmtFullBath     0\n",
       "BsmtHalfBath     0\n",
       "FullBath         0\n",
       "HalfBath         0\n",
       "BedroomAbvGr     0\n",
       "KitchenAbvGr     0\n",
       "KitchenQual      0\n",
       "TotRmsAbvGrd     0\n",
       "Functional       0\n",
       "Fireplaces       0\n",
       "GarageCars       0\n",
       "GarageArea       0\n",
       "PavedDrive       0\n",
       "WoodDeckSF       0\n",
       "OpenPorchSF      0\n",
       "EnclosedPorch    0\n",
       "3SsnPorch        0\n",
       "ScreenPorch      0\n",
       "PoolArea         0\n",
       "MiscVal          0\n",
       "MoSold           0\n",
       "YrSold           0\n",
       "SaleType         0\n",
       "SaleCondition    0\n",
       "SalePrice        0\n",
       "dtype: int64"
      ]
     },
     "execution_count": 6,
     "metadata": {},
     "output_type": "execute_result"
    }
   ],
   "source": [
    "dff.isnull().sum()"
   ]
  },
  {
   "cell_type": "markdown",
   "id": "1bc464b2",
   "metadata": {},
   "source": [
    "#### Encoding"
   ]
  },
  {
   "cell_type": "code",
   "execution_count": 8,
   "id": "1530d59d",
   "metadata": {},
   "outputs": [],
   "source": [
    "def label_encoder(dataframe, binary_col):\n",
    "    labelencoder = LabelEncoder()\n",
    "    dataframe[binary_col] = labelencoder.fit_transform(dataframe[binary_col])\n",
    "    return dataframe"
   ]
  },
  {
   "cell_type": "code",
   "execution_count": 9,
   "id": "adebb693",
   "metadata": {},
   "outputs": [],
   "source": [
    "binary_cols = [col for col in dff.columns if dff[col].dtypes == \"O\" and len(dff[col].unique()) == 2]\n",
    "\n",
    "for col in binary_cols:\n",
    "    label_encoder(dff, col)\n"
   ]
  },
  {
   "cell_type": "code",
   "execution_count": 10,
   "id": "6acaab09",
   "metadata": {},
   "outputs": [],
   "source": [
    "dff=pd.get_dummies(dff, columns=['MSZoning', 'Street', 'LotShape', 'LandContour', 'Utilities', 'LotConfig', 'LandSlope',\n",
    "                              'Condition1', 'Condition2', 'BldgType', 'HouseStyle', 'RoofStyle', 'RoofMatl', 'Exterior1st',\n",
    "                              'Exterior2nd', 'ExterQual', 'ExterCond', 'Foundation', 'Heating', 'HeatingQC', 'CentralAir',\n",
    "                              'KitchenQual', 'Functional', 'PavedDrive', 'SaleType', 'SaleCondition', 'OverallCond',\n",
    "                              'BsmtFullBath', 'BsmtHalfBath', 'FullBath', 'HalfBath', 'BedroomAbvGr', 'KitchenAbvGr',\n",
    "                              'Fireplaces', 'GarageCars', 'PoolArea','YrSold','Neighborhood'], drop_first=True)\n"
   ]
  },
  {
   "cell_type": "code",
   "execution_count": 11,
   "id": "e4c90a3f",
   "metadata": {},
   "outputs": [
    {
     "data": {
      "text/plain": [
       "(1460, 225)"
      ]
     },
     "execution_count": 11,
     "metadata": {},
     "output_type": "execute_result"
    }
   ],
   "source": [
    "dff.shape\n",
    "#(1460, 225)"
   ]
  },
  {
   "cell_type": "code",
   "execution_count": 12,
   "id": "23eff7da",
   "metadata": {},
   "outputs": [
    {
     "data": {
      "text/plain": [
       "Id                       int64\n",
       "MSSubClass               int64\n",
       "LotArea                  int64\n",
       "OverallQual              int64\n",
       "YearBuilt                int64\n",
       "YearRemodAdd             int64\n",
       "BsmtFinSF1               int64\n",
       "BsmtFinSF2               int64\n",
       "BsmtUnfSF                int64\n",
       "TotalBsmtSF              int64\n",
       "1stFlrSF                 int64\n",
       "2ndFlrSF                 int64\n",
       "LowQualFinSF             int64\n",
       "GrLivArea                int64\n",
       "TotRmsAbvGrd             int64\n",
       "GarageArea               int64\n",
       "WoodDeckSF               int64\n",
       "OpenPorchSF              int64\n",
       "EnclosedPorch            int64\n",
       "3SsnPorch                int64\n",
       "ScreenPorch              int64\n",
       "MiscVal                  int64\n",
       "MoSold                   int64\n",
       "SalePrice                int64\n",
       "MSZoning_FV              uint8\n",
       "MSZoning_RH              uint8\n",
       "MSZoning_RL              uint8\n",
       "MSZoning_RM              uint8\n",
       "Street_1                 uint8\n",
       "LotShape_IR2             uint8\n",
       "LotShape_IR3             uint8\n",
       "LotShape_Reg             uint8\n",
       "LandContour_HLS          uint8\n",
       "LandContour_Low          uint8\n",
       "LandContour_Lvl          uint8\n",
       "Utilities_1              uint8\n",
       "LotConfig_CulDSac        uint8\n",
       "LotConfig_FR2            uint8\n",
       "LotConfig_FR3            uint8\n",
       "LotConfig_Inside         uint8\n",
       "LandSlope_Mod            uint8\n",
       "LandSlope_Sev            uint8\n",
       "Condition1_Feedr         uint8\n",
       "Condition1_Norm          uint8\n",
       "Condition1_PosA          uint8\n",
       "Condition1_PosN          uint8\n",
       "Condition1_RRAe          uint8\n",
       "Condition1_RRAn          uint8\n",
       "Condition1_RRNe          uint8\n",
       "Condition1_RRNn          uint8\n",
       "Condition2_Feedr         uint8\n",
       "Condition2_Norm          uint8\n",
       "Condition2_PosA          uint8\n",
       "Condition2_PosN          uint8\n",
       "Condition2_RRAe          uint8\n",
       "Condition2_RRAn          uint8\n",
       "Condition2_RRNn          uint8\n",
       "BldgType_2fmCon          uint8\n",
       "BldgType_Duplex          uint8\n",
       "BldgType_Twnhs           uint8\n",
       "BldgType_TwnhsE          uint8\n",
       "HouseStyle_1.5Unf        uint8\n",
       "HouseStyle_1Story        uint8\n",
       "HouseStyle_2.5Fin        uint8\n",
       "HouseStyle_2.5Unf        uint8\n",
       "HouseStyle_2Story        uint8\n",
       "HouseStyle_SFoyer        uint8\n",
       "HouseStyle_SLvl          uint8\n",
       "RoofStyle_Gable          uint8\n",
       "RoofStyle_Gambrel        uint8\n",
       "RoofStyle_Hip            uint8\n",
       "RoofStyle_Mansard        uint8\n",
       "RoofStyle_Shed           uint8\n",
       "RoofMatl_CompShg         uint8\n",
       "RoofMatl_Membran         uint8\n",
       "RoofMatl_Metal           uint8\n",
       "RoofMatl_Roll            uint8\n",
       "RoofMatl_Tar&Grv         uint8\n",
       "RoofMatl_WdShake         uint8\n",
       "RoofMatl_WdShngl         uint8\n",
       "Exterior1st_AsphShn      uint8\n",
       "Exterior1st_BrkComm      uint8\n",
       "Exterior1st_BrkFace      uint8\n",
       "Exterior1st_CBlock       uint8\n",
       "Exterior1st_CemntBd      uint8\n",
       "Exterior1st_HdBoard      uint8\n",
       "Exterior1st_ImStucc      uint8\n",
       "Exterior1st_MetalSd      uint8\n",
       "Exterior1st_Plywood      uint8\n",
       "Exterior1st_Stone        uint8\n",
       "Exterior1st_Stucco       uint8\n",
       "Exterior1st_VinylSd      uint8\n",
       "Exterior1st_Wd Sdng      uint8\n",
       "Exterior1st_WdShing      uint8\n",
       "Exterior2nd_AsphShn      uint8\n",
       "Exterior2nd_Brk Cmn      uint8\n",
       "Exterior2nd_BrkFace      uint8\n",
       "Exterior2nd_CBlock       uint8\n",
       "Exterior2nd_CmentBd      uint8\n",
       "Exterior2nd_HdBoard      uint8\n",
       "Exterior2nd_ImStucc      uint8\n",
       "Exterior2nd_MetalSd      uint8\n",
       "Exterior2nd_Other        uint8\n",
       "Exterior2nd_Plywood      uint8\n",
       "Exterior2nd_Stone        uint8\n",
       "Exterior2nd_Stucco       uint8\n",
       "Exterior2nd_VinylSd      uint8\n",
       "Exterior2nd_Wd Sdng      uint8\n",
       "Exterior2nd_Wd Shng      uint8\n",
       "ExterQual_Fa             uint8\n",
       "ExterQual_Gd             uint8\n",
       "ExterQual_TA             uint8\n",
       "ExterCond_Fa             uint8\n",
       "ExterCond_Gd             uint8\n",
       "ExterCond_Po             uint8\n",
       "ExterCond_TA             uint8\n",
       "Foundation_CBlock        uint8\n",
       "Foundation_PConc         uint8\n",
       "Foundation_Slab          uint8\n",
       "Foundation_Stone         uint8\n",
       "Foundation_Wood          uint8\n",
       "Heating_GasA             uint8\n",
       "Heating_GasW             uint8\n",
       "Heating_Grav             uint8\n",
       "Heating_OthW             uint8\n",
       "Heating_Wall             uint8\n",
       "HeatingQC_Fa             uint8\n",
       "HeatingQC_Gd             uint8\n",
       "HeatingQC_Po             uint8\n",
       "HeatingQC_TA             uint8\n",
       "CentralAir_1             uint8\n",
       "KitchenQual_Fa           uint8\n",
       "KitchenQual_Gd           uint8\n",
       "KitchenQual_TA           uint8\n",
       "Functional_Maj2          uint8\n",
       "Functional_Min1          uint8\n",
       "Functional_Min2          uint8\n",
       "Functional_Mod           uint8\n",
       "Functional_Sev           uint8\n",
       "Functional_Typ           uint8\n",
       "PavedDrive_P             uint8\n",
       "PavedDrive_Y             uint8\n",
       "SaleType_CWD             uint8\n",
       "SaleType_Con             uint8\n",
       "SaleType_ConLD           uint8\n",
       "SaleType_ConLI           uint8\n",
       "SaleType_ConLw           uint8\n",
       "SaleType_New             uint8\n",
       "SaleType_Oth             uint8\n",
       "SaleType_WD              uint8\n",
       "SaleCondition_AdjLand    uint8\n",
       "SaleCondition_Alloca     uint8\n",
       "SaleCondition_Family     uint8\n",
       "SaleCondition_Normal     uint8\n",
       "SaleCondition_Partial    uint8\n",
       "OverallCond_2            uint8\n",
       "OverallCond_3            uint8\n",
       "OverallCond_4            uint8\n",
       "OverallCond_5            uint8\n",
       "OverallCond_6            uint8\n",
       "OverallCond_7            uint8\n",
       "OverallCond_8            uint8\n",
       "OverallCond_9            uint8\n",
       "BsmtFullBath_1           uint8\n",
       "BsmtFullBath_2           uint8\n",
       "BsmtFullBath_3           uint8\n",
       "BsmtHalfBath_1           uint8\n",
       "BsmtHalfBath_2           uint8\n",
       "FullBath_1               uint8\n",
       "FullBath_2               uint8\n",
       "FullBath_3               uint8\n",
       "HalfBath_1               uint8\n",
       "HalfBath_2               uint8\n",
       "BedroomAbvGr_1           uint8\n",
       "BedroomAbvGr_2           uint8\n",
       "BedroomAbvGr_3           uint8\n",
       "BedroomAbvGr_4           uint8\n",
       "BedroomAbvGr_5           uint8\n",
       "BedroomAbvGr_6           uint8\n",
       "BedroomAbvGr_8           uint8\n",
       "KitchenAbvGr_1           uint8\n",
       "KitchenAbvGr_2           uint8\n",
       "KitchenAbvGr_3           uint8\n",
       "Fireplaces_1             uint8\n",
       "Fireplaces_2             uint8\n",
       "Fireplaces_3             uint8\n",
       "GarageCars_1             uint8\n",
       "GarageCars_2             uint8\n",
       "GarageCars_3             uint8\n",
       "GarageCars_4             uint8\n",
       "PoolArea_480             uint8\n",
       "PoolArea_512             uint8\n",
       "PoolArea_519             uint8\n",
       "PoolArea_555             uint8\n",
       "PoolArea_576             uint8\n",
       "PoolArea_648             uint8\n",
       "PoolArea_738             uint8\n",
       "YrSold_2007              uint8\n",
       "YrSold_2008              uint8\n",
       "YrSold_2009              uint8\n",
       "YrSold_2010              uint8\n",
       "Neighborhood_Blueste     uint8\n",
       "Neighborhood_BrDale      uint8\n",
       "Neighborhood_BrkSide     uint8\n",
       "Neighborhood_ClearCr     uint8\n",
       "Neighborhood_CollgCr     uint8\n",
       "Neighborhood_Crawfor     uint8\n",
       "Neighborhood_Edwards     uint8\n",
       "Neighborhood_Gilbert     uint8\n",
       "Neighborhood_IDOTRR      uint8\n",
       "Neighborhood_MeadowV     uint8\n",
       "Neighborhood_Mitchel     uint8\n",
       "Neighborhood_NAmes       uint8\n",
       "Neighborhood_NPkVill     uint8\n",
       "Neighborhood_NWAmes      uint8\n",
       "Neighborhood_NoRidge     uint8\n",
       "Neighborhood_NridgHt     uint8\n",
       "Neighborhood_OldTown     uint8\n",
       "Neighborhood_SWISU       uint8\n",
       "Neighborhood_Sawyer      uint8\n",
       "Neighborhood_SawyerW     uint8\n",
       "Neighborhood_Somerst     uint8\n",
       "Neighborhood_StoneBr     uint8\n",
       "Neighborhood_Timber      uint8\n",
       "Neighborhood_Veenker     uint8\n",
       "dtype: object"
      ]
     },
     "execution_count": 12,
     "metadata": {},
     "output_type": "execute_result"
    }
   ],
   "source": [
    "dff.dtypes"
   ]
  },
  {
   "cell_type": "code",
   "execution_count": 13,
   "id": "bef9bff5",
   "metadata": {},
   "outputs": [],
   "source": [
    "y = dff['SalePrice']\n",
    "X = dff.drop([\"Id\", \"SalePrice\"], axis=1)"
   ]
  },
  {
   "cell_type": "markdown",
   "id": "da6e3443",
   "metadata": {},
   "source": [
    "#### Scaling"
   ]
  },
  {
   "cell_type": "code",
   "execution_count": 14,
   "id": "5a466d86",
   "metadata": {},
   "outputs": [
    {
     "data": {
      "text/plain": [
       "0    208500\n",
       "1    181500\n",
       "2    223500\n",
       "3    140000\n",
       "4    250000\n",
       "Name: SalePrice, dtype: int64"
      ]
     },
     "execution_count": 14,
     "metadata": {},
     "output_type": "execute_result"
    }
   ],
   "source": [
    "scaler = MinMaxScaler()\n",
    "X = pd.DataFrame(scaler.fit_transform(X), columns=X.columns)\n",
    "X.head()\n",
    "y.head()"
   ]
  },
  {
   "cell_type": "markdown",
   "id": "7d7628b1",
   "metadata": {},
   "source": [
    "## MODEL& PREDICTION"
   ]
  },
  {
   "cell_type": "code",
   "execution_count": 15,
   "id": "4d358874",
   "metadata": {},
   "outputs": [
    {
     "name": "stdout",
     "output_type": "stream",
     "text": [
      "Test RMSE: 28220.4147 (GBM) \n",
      "Test R2: 0.8741 (GBM) \n",
      "10-Fold CV RMSE: 26183.8453 (GBM) \n",
      "****************************************************\n",
      "Test RMSE: 29628.336 (RF) \n",
      "Test R2: 0.8612 (RF) \n",
      "10-Fold CV RMSE: 28924.5171 (RF) \n",
      "****************************************************\n",
      "Test RMSE: 30161.6044 (XGBoost) \n",
      "Test R2: 0.8562 (XGBoost) \n",
      "10-Fold CV RMSE: 28566.7433 (XGBoost) \n",
      "****************************************************\n",
      "Test RMSE: 29429.7051 (LightGBM) \n",
      "Test R2: 0.8631 (LightGBM) \n",
      "10-Fold CV RMSE: 28454.7662 (LightGBM) \n",
      "****************************************************\n"
     ]
    },
    {
     "data": {
      "text/plain": [
       "'\\nBase Model Sonuclari\\n\\nTest RMSE: 28093.2963 (GBM) \\nTest R2: 0.8752 (GBM) \\n10 Katlı CV RMSE: 26254.3357 (GBM) \\n****************************************************\\nTest RMSE: 29972.619 (RF) \\nTest R2: 0.858 (RF) \\n10 Katlı CV RMSE: 29117.2353 (RF) \\n****************************************************\\nTest RMSE: 30161.6044 (XGBoost) \\nTest R2: 0.8562 (XGBoost) \\n10 Katlı CV RMSE: 28566.7433 (XGBoost) \\n****************************************************\\nTest RMSE: 29429.7051 (LightGBM) \\nTest R2: 0.8631 (LightGBM) \\n10 Katlı CV RMSE: 28454.7662 (LightGBM) \\n****************************************************\\n\\n'"
      ]
     },
     "execution_count": 15,
     "metadata": {},
     "output_type": "execute_result"
    }
   ],
   "source": [
    "X_train, X_test, y_train, y_test = train_test_split(X, y, test_size=0.30, random_state=17)\n",
    "\n",
    "regressors = [(\"GBM\", GradientBoostingRegressor()),\n",
    "              (\"RF\", RandomForestRegressor()),\n",
    "              ('XGBoost', XGBRegressor(objective='reg:squarederror')),\n",
    "              ('LightGBM', LGBMRegressor())]\n",
    "\n",
    "for name, regressor in regressors:\n",
    "\n",
    "    reg_model = regressor.fit(X_train, y_train)\n",
    "    y_pred = reg_model.predict(X_test)\n",
    "    cv_rmse = np.mean(np.sqrt(-cross_val_score(regressor, X, y, cv=10, scoring=\"neg_mean_squared_error\")))\n",
    "    test_rmse = np.sqrt(mean_squared_error(y_test, y_pred))\n",
    "    test_r2 = reg_model.score(X_test, y_test)\n",
    "    print(f\"Test RMSE: {round(test_rmse, 4)} ({name}) \")\n",
    "    print(f\"Test R2: {round(test_r2, 4)} ({name}) \")\n",
    "    print(f\"10-Fold CV RMSE: {round(cv_rmse, 4)} ({name}) \")\n",
    "    print('****************************************************')\n",
    "\n"
   ]
  },
  {
   "cell_type": "code",
   "execution_count": 17,
   "id": "3bbb7653",
   "metadata": {},
   "outputs": [
    {
     "name": "stdout",
     "output_type": "stream",
     "text": [
      "     Value       Feature\n",
      "2    0.469   OverallQual\n",
      "12   0.146     GrLivArea\n",
      "8    0.065   TotalBsmtSF\n",
      "186  0.057  GarageCars_3\n",
      "5    0.047    BsmtFinSF1\n",
      "10   0.045      2ndFlrSF\n",
      "9    0.031      1stFlrSF\n",
      "4    0.025  YearRemodAdd\n",
      "1    0.020       LotArea\n",
      "3    0.018     YearBuilt\n",
      "14   0.010    GarageArea\n",
      "182  0.008  Fireplaces_2\n",
      "16   0.007   OpenPorchSF\n",
      "166  0.007    FullBath_1\n",
      "185  0.006  GarageCars_2\n"
     ]
    },
    {
     "data": {
      "image/png": "[encoded data removed]",
      "text/plain": [
       "<Figure size 720x720 with 1 Axes>"
      ]
     },
     "metadata": {
      "needs_background": "light"
     },
     "output_type": "display_data"
    },
    {
     "data": {
      "text/plain": [
       "'\\nBase Model icin\\n\\n     Value       Feature\\n2    0.468   OverallQual\\n12   0.148     GrLivArea\\n8    0.067   TotalBsmtSF\\n186  0.057  GarageCars_3\\n5    0.048    BsmtFinSF1\\n10   0.045      2ndFlrSF\\n9    0.027      1stFlrSF\\n4    0.025  YearRemodAdd\\n1    0.020       LotArea\\n3    0.018     YearBuilt\\n14   0.011    GarageArea\\n182  0.008  Fireplaces_2\\n166  0.007    FullBath_1\\n16   0.007   OpenPorchSF\\n185  0.006  GarageCars_2'"
      ]
     },
     "execution_count": 17,
     "metadata": {},
     "output_type": "execute_result"
    }
   ],
   "source": [
    "def plot_importance(model, features, num=len(X), save=False):\n",
    "    feature_imp = pd.DataFrame({'Value': model.feature_importances_, 'Feature': features.columns})\n",
    "    print(feature_imp.sort_values(by='Value',ascending=False).head(15))\n",
    "    plt.figure(figsize=(10, 10))\n",
    "    sns.set(font_scale=1)\n",
    "    sns.barplot(x=\"Value\", y=\"Feature\", data=feature_imp.sort_values(by=\"Value\",\n",
    "                                                                     ascending=False)[0:num])\n",
    "    plt.title('Features')\n",
    "    plt.tight_layout()\n",
    "    plt.show()\n",
    "    if save:\n",
    "        plt.savefig('importances.png')\n",
    "\n",
    "reg_model = GradientBoostingRegressor().fit(X_train, y_train)\n",
    "plot_importance(reg_model, X_train, num=15)\n"
   ]
  },
  {
   "cell_type": "code",
   "execution_count": null,
   "id": "12154cf9",
   "metadata": {},
   "outputs": [],
   "source": []
  }
 ],
 "metadata": {
  "kernelspec": {
   "display_name": "Python 3 (ipykernel)",
   "language": "python",
   "name": "python3"
  },
  "language_info": {
   "codemirror_mode": {
    "name": "ipython",
    "version": 3
   },
   "file_extension": ".py",
   "mimetype": "text/x-python",
   "name": "python",
   "nbconvert_exporter": "python",
   "pygments_lexer": "ipython3",
   "version": "3.9.7"
  }
 },
 "nbformat": 4,
 "nbformat_minor": 5
}
